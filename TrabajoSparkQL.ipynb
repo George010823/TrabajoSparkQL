{
  "nbformat": 4,
  "nbformat_minor": 0,
  "metadata": {
    "kernelspec": {
      "display_name": "Python 3",
      "language": "python",
      "name": "python3"
    },
    "language_info": {
      "codemirror_mode": {
        "name": "ipython",
        "version": 3
      },
      "file_extension": ".py",
      "mimetype": "text/x-python",
      "name": "python",
      "nbconvert_exporter": "python",
      "pygments_lexer": "ipython3",
      "version": "3.6.9"
    },
    "colab": {
      "name": "TrabajoSparkQL.ipynb",
      "provenance": [],
      "collapsed_sections": [],
      "toc_visible": true
    }
  },
  "cells": [
    {
      "cell_type": "markdown",
      "metadata": {
        "id": "00JsuSl-gpQb"
      },
      "source": [
        "# Análisis e Implementación en SparkQL\n",
        "\n",
        "* Entrega hasta el 24 de mayo en https://forms.gle/aRiWtjayausRFCTd8\n",
        "\n",
        "* Los dos conjuntos de datos entregados, CSV separados por coma, Evaluación del Pitch (2021.04.13 ISoftware).csv y Asistencia del Pitch (2021.04.13 ISoftware).csv proceden de dos encuestas realizadas con Google Forms.\n",
        "\n",
        "* Los archivos proceden de las evaluaciones de los pitch (exposiciones cortas de negocio) que realizan los estudiantes de la asignatura de Ingeniería de Software. Los estudiantes están organizados en equipos. Cada equipo realiza una presentación de máximo 15 minutos, una vez inicia la presentación todos los estudiantes deben registrar su asistencia lo cual queda registrado en 'Asistencia del Pitch (2021.04.13 ISoftware).csv' incluidos los miembros del equipo.\n",
        "\n",
        "* El archivo `Asistencia del Pitch (2021.04.13 ISoftware).csv` contiene las columnas: `\"Marca temporal\"` es tiempo dado en fecha y hora, `\"Nombre de usuario\"` es el correo electrónico del estudiante y es texto,`\"Equipo al que perteneces:\"` equipo de trabajo al que pertenece el estudiante también es texto y `\"Equipo que va a exponer:\"` equipo que el estudiante va a tender a su presentación.\n",
        "\n",
        "* El archivo `Evaluación del Pitch (2021.04.13 ISoftware).csv` contiene las columnas `\"Marca temporal\"` es tiempo dado en fecha y hora, `\"Nombre de usuario\"` es el correo electrónico del estudiante y es texto, `\"Equipo que vas a evaluar:\"` equipo que ha expuesto y que va a ser evaluado por cada estudiante que no sea integrante; a continuación, se tienen las siguientes columnas que corresponden a la evaluación de los respectivos ítems:\n",
        "\n",
        "    1. \"Introducción: El equipo responde adecuadamente ¿Quiénes son y por qué están aquí?\",\n",
        "    2. \"Equipo: El equipo responde adecuadamente ¿Quiénes están detrás de la idea y cuál es su función?\",\n",
        "    3. \"Problema: El equipo responde adecuadamente ¿Qué problema resolverá?, ¿es realmente un problema?\",\n",
        "    4. \"Ventajas: El equipo responde adecuadamente ¿Por qué su solución es especial?, ¿qué la hace distinta de otras?\",\n",
        "    5. \"Solución: El equipo responde adecuadamente ¿Cómo piensa resolver el problema?\",\n",
        "    6. \"Producto: El equipo responde adecuadamente ¿Cómo funciona el producto o servicio? Muestra algunos ejemplos.\",\n",
        "    7. \"Tracción: El equipo responde adecuadamente si cuenta con clientes que demuestran potencial.\",\n",
        "    8. \"Mercado: El equipo responde conoce, o por lo menos intentar predecir, el tamaño del mercado que impactará.\",\n",
        "    9. \"Competencia: El equipo responde adecuadamente ¿Cuáles son las soluciones alternativas al problema que plantea?\",\n",
        "    10. \"Modelo de negocio: El equipo responde adecuadamente ¿Cómo hará dinero? \",\n",
        "    11. \"Inversión: El equipo responde adecuadamente ¿Cuál es su presupuesto y cuánto espera ganar?\",\n",
        "    12. \"Contacto: El equipo deja los datos al cliente y muestra cómo pueden contactarle.\",\n",
        "    13. \"Exposición: ¿Qué tan coordinados estaban los expositores?\",\n",
        "    14. \"Exposición: ¿Los expositores se expresaron con claridad y se hicieron entender?\",\n",
        "    15. \"Exposición: Las diapositivas son claras y coherentes y apoyaron adecuadamente la exposición.\",\n",
        "    * \"Suponiendo que eres inversionista, ¿Estarías dispuesto a invertir dinero en este equipo? (esta pregunta no se pondera en la nota)\",\n",
        "    * \"Observaciones para el equipo, estas observaciones las debe considerar el equipo para mejorar la siguiente presentación.\"\n",
        "\n",
        "\n",
        "* Cada ítem se evalúa con la siguiente escala: 0. Ausente; 1. Deficiente; 2. Regular; 3. Aceptable; 4. Bueno; 5. Excelente\n",
        "\n",
        "* Carge los datos, cada archivo en una tabla SparkSQL y responda cada una de las consultas dadas en cada celda. Tenga en cuenta que algunas consultas pueden tener como resultado el vacío."
      ]
    },
    {
      "cell_type": "markdown",
      "metadata": {
        "id": "XhG7orM9gpQf"
      },
      "source": [
        "# Integrantes del equipo\n",
        "1. Juliana Arias Ciro - 1038409725\n",
        "2. Juan Pablo López Buitrago - 1037975877\n",
        "3. Federico Cardona Salazar - 1053870065\n",
        "4. Jhon Edwin Mejia Leon - 1111204157\n",
        "5. Jorge Iván Gómez Restrepo - 9770450"
      ]
    },
    {
      "cell_type": "code",
      "metadata": {
        "id": "vscE4oWpgqof",
        "colab": {
          "base_uri": "https://localhost:8080/"
        },
        "outputId": "cb61b45e-46e5-48c9-fa78-215e5b6b53e2"
      },
      "source": [
        "# Es una libreria que da soporte para llamar funciones, clases y tipos del Lenguaje C\n",
        "# Es un requerimiento para ts.flint\n",
        "!pip3 install Cython\n",
        "\n",
        "# Es una libreria especial para la serialización de arreglos basada en C++, permite la \n",
        "# integración entre pandas, NumPy, Spark ... \n",
        "# https://pypi.org/project/pyarrow/\n",
        "# Es un requerimiento para ts.flint\n",
        "!pip3 install pyarrow==0.9.0 \n",
        "\n",
        "\n",
        "# Es una colección de módulos para el análisis de series de tiempo con PySpark\n",
        "# https://ts-flint.readthedocs.io/en/latest/\n",
        "!pip3 install ts-flint\n",
        "\n",
        "# Descargamos las librerias java de flint\n",
        "# quedará en la carpeta /datalake\n",
        "!wget https://repo1.maven.org/maven2/com/twosigma/flint/0.6.0/flint-0.6.0.jar\n"
      ],
      "execution_count": null,
      "outputs": [
        {
          "output_type": "stream",
          "text": [
            "Requirement already satisfied: Cython in /usr/local/lib/python3.7/dist-packages (0.29.22)\n",
            "Collecting pyarrow==0.9.0\n",
            "  Using cached https://files.pythonhosted.org/packages/be/2d/11751c477e4e7f4bb07ac7584aafabe0d0608c170e4bff67246d695ebdbe/pyarrow-0.9.0.tar.gz\n",
            "Requirement already satisfied: numpy>=1.10 in /usr/local/lib/python3.7/dist-packages (from pyarrow==0.9.0) (1.19.5)\n",
            "Requirement already satisfied: six>=1.0.0 in /usr/local/lib/python3.7/dist-packages (from pyarrow==0.9.0) (1.15.0)\n",
            "Building wheels for collected packages: pyarrow\n",
            "  Building wheel for pyarrow (setup.py) ... \u001b[?25lerror\n",
            "\u001b[31m  ERROR: Failed building wheel for pyarrow\u001b[0m\n",
            "\u001b[?25h  Running setup.py clean for pyarrow\n",
            "Failed to build pyarrow\n",
            "Installing collected packages: pyarrow\n",
            "  Found existing installation: pyarrow 0.16.0\n",
            "    Uninstalling pyarrow-0.16.0:\n",
            "      Successfully uninstalled pyarrow-0.16.0\n",
            "    Running setup.py install for pyarrow ... \u001b[?25l\u001b[?25herror\n",
            "  Rolling back uninstall of pyarrow\n",
            "  Moving to /usr/local/bin/plasma_store\n",
            "   from /tmp/pip-uninstall-_t4bega0/plasma_store\n",
            "  Moving to /usr/local/lib/python3.7/dist-packages/pyarrow-0.16.0.dist-info/\n",
            "   from /usr/local/lib/python3.7/dist-packages/~yarrow-0.16.0.dist-info\n",
            "  Moving to /usr/local/lib/python3.7/dist-packages/pyarrow/\n",
            "   from /usr/local/lib/python3.7/dist-packages/~yarrow\n",
            "\u001b[31mERROR: Command errored out with exit status 1: /usr/bin/python3 -u -c 'import sys, setuptools, tokenize; sys.argv[0] = '\"'\"'/tmp/pip-install-wms8996x/pyarrow/setup.py'\"'\"'; __file__='\"'\"'/tmp/pip-install-wms8996x/pyarrow/setup.py'\"'\"';f=getattr(tokenize, '\"'\"'open'\"'\"', open)(__file__);code=f.read().replace('\"'\"'\\r\\n'\"'\"', '\"'\"'\\n'\"'\"');f.close();exec(compile(code, __file__, '\"'\"'exec'\"'\"'))' install --record /tmp/pip-record-tbaifhib/install-record.txt --single-version-externally-managed --compile Check the logs for full command output.\u001b[0m\n",
            "Requirement already satisfied: ts-flint in /usr/local/lib/python3.7/dist-packages (0.6.0)\n",
            "--2021-05-08 21:03:40--  https://repo1.maven.org/maven2/com/twosigma/flint/0.6.0/flint-0.6.0.jar\n",
            "Resolving repo1.maven.org (repo1.maven.org)... 199.232.192.209, 199.232.196.209\n",
            "Connecting to repo1.maven.org (repo1.maven.org)|199.232.192.209|:443... connected.\n",
            "HTTP request sent, awaiting response... 200 OK\n",
            "Length: 2171677 (2.1M) [application/java-archive]\n",
            "Saving to: ‘flint-0.6.0.jar.7’\n",
            "\n",
            "flint-0.6.0.jar.7   100%[===================>]   2.07M  --.-KB/s    in 0.03s   \n",
            "\n",
            "2021-05-08 21:03:40 (61.4 MB/s) - ‘flint-0.6.0.jar.7’ saved [2171677/2171677]\n",
            "\n"
          ],
          "name": "stdout"
        }
      ]
    },
    {
      "cell_type": "code",
      "metadata": {
        "colab": {
          "base_uri": "https://localhost:8080/",
          "height": 363
        },
        "id": "dLBXWrdlgpQg",
        "outputId": "c3bc9568-0dc2-49e8-a7f9-0d7a7aa4e40d"
      },
      "source": [
        "# Agrege acá el código para importar las librerias\n",
        "import os\n",
        "# Requerido https://github.com/twosigma/flint/blob/master/python/README.md\n",
        "os.environ['PYSPARK_SUBMIT_ARGS'] = '--jars /datalake/flint-0.6.0.jar --py-files /datalake/flint-0.6.0.jar pyspark-shell' \n",
        "\n",
        "# La libreria para \"encontrar el sevicio\" de Spark\n",
        "import findspark\n",
        "findspark.init()\n",
        "\n",
        "# Librerias para \"gestionar el servicio\" de Spark\n",
        "from pyspark import SparkConf, SparkContext\n",
        "from pyspark.sql import SQLContext, SparkSession\n",
        "\n",
        "# Creamos una aplicación Spark en el Servicio\n",
        "# Tenga cuidado con las tildes o caracteres especiales en el nombre de la app\n",
        "AppSpark = SparkConf().setAppName(\"Evaluacion iSofware\")\n",
        "\n",
        "# definimos un espacio o contexto para la App\n",
        "ContextoSpark=SparkContext(conf=AppSpark)\n",
        "\n",
        "# inicio una sesión en el espacio de la App\n",
        "SesionSpark = SparkSession(ContextoSpark)\n",
        "\n",
        "# inicio del espacio o contexto SQL\n",
        "ContextoSql = SQLContext(sparkContext=ContextoSpark, sparkSession=SesionSpark)"
      ],
      "execution_count": null,
      "outputs": [
        {
          "output_type": "error",
          "ename": "ModuleNotFoundError",
          "evalue": "ignored",
          "traceback": [
            "\u001b[0;31m---------------------------------------------------------------------------\u001b[0m",
            "\u001b[0;31mModuleNotFoundError\u001b[0m                       Traceback (most recent call last)",
            "\u001b[0;32m<ipython-input-9-8e24cc2eeee4>\u001b[0m in \u001b[0;36m<module>\u001b[0;34m()\u001b[0m\n\u001b[1;32m      7\u001b[0m \u001b[0;34m\u001b[0m\u001b[0m\n\u001b[1;32m      8\u001b[0m \u001b[0;31m# La libreria para \"encontrar el sevicio\" de Spark\u001b[0m\u001b[0;34m\u001b[0m\u001b[0;34m\u001b[0m\u001b[0;34m\u001b[0m\u001b[0m\n\u001b[0;32m----> 9\u001b[0;31m \u001b[0;32mimport\u001b[0m \u001b[0mfindspark\u001b[0m\u001b[0;34m\u001b[0m\u001b[0;34m\u001b[0m\u001b[0m\n\u001b[0m\u001b[1;32m     10\u001b[0m \u001b[0mfindspark\u001b[0m\u001b[0;34m.\u001b[0m\u001b[0minit\u001b[0m\u001b[0;34m(\u001b[0m\u001b[0;34m)\u001b[0m\u001b[0;34m\u001b[0m\u001b[0;34m\u001b[0m\u001b[0m\n\u001b[1;32m     11\u001b[0m \u001b[0;34m\u001b[0m\u001b[0m\n",
            "\u001b[0;31mModuleNotFoundError\u001b[0m: No module named 'findspark'",
            "",
            "\u001b[0;31m---------------------------------------------------------------------------\u001b[0;32m\nNOTE: If your import is failing due to a missing package, you can\nmanually install dependencies using either !pip or !apt.\n\nTo view examples of installing some common dependencies, click the\n\"Open Examples\" button below.\n\u001b[0;31m---------------------------------------------------------------------------\u001b[0m\n"
          ]
        }
      ]
    },
    {
      "cell_type": "code",
      "metadata": {
        "id": "2yBiRP8TgpQi"
      },
      "source": [
        "# 1. Cargue los datos en la carpeta datalake y luego del /datalake al HDFS (Hadoop File System)\n",
        "# Recuerda usar ! para ejecutar el comando en el shell. \n",
        "# Tu código a continuación...\n",
        "!wget https://raw.githubusercontent.com/jariasci/Trabajo-Spark/main/Asistencia_Pitch.csv\n",
        "!wget https://raw.githubusercontent.com/jariasci/Trabajo-Spark/main/Evaluacion_Pitch.csv\n",
        "\n",
        "!hadoop fs -put Asistencia_Pitch.csv\n",
        "!hadoop fs -put Evaluacion_Pitch.csv\n",
        "!hadoop fs -ls"
      ],
      "execution_count": null,
      "outputs": []
    },
    {
      "cell_type": "code",
      "metadata": {
        "id": "tITeoD5QgpQj"
      },
      "source": [
        "# 2. Cree dos tablas SparkSQL y almacene el csv en su correspondiente tabla.\n",
        "# Observación: tenga especial cuidado con los encabezados de los archivos CSV.\n",
        "# Usted puede considerar cambiar los encabezados de los CSV originales\n",
        "# Tu código a continuación...\n",
        "\n",
        "# Cargar los datos con sus correspondientes tipos\n",
        "# Recordar que el CSV debe estar en el File System de Hadoop\n",
        "ContextoSql.sql(\"\"\"\n",
        "CREATE TABLE IF NOT EXISTS \n",
        "asistencia (\n",
        "        creacion_registro STRING,\n",
        "        correo STRING,\n",
        "        equipo_pertenece STRING,\n",
        "        equipo_exposicion STRING\n",
        "        ) \n",
        "USING CSV OPTIONS ( \n",
        "    header='true', \n",
        "    nullvalue='NA', \n",
        "    timestampFormat=\\\"yyyy-MM-dd'T'HH:mm:ss\\\", \n",
        "    path='Asistencia_Pitch.csv')\n",
        "    \"\"\"); \n",
        "\n",
        "# Cargar los datos con sus correspondientes tipos\n",
        "# Recordar que el CSV debe estar en el File System de Hadoop\n",
        "ContextoSql.sql(\"\"\"\n",
        "CREATE TABLE IF NOT EXISTS \n",
        "evaluacion (\n",
        "        creacion_registro DATE,\n",
        "        correo STRING,\n",
        "        equipo_evaluar STRING,\n",
        "        nota_introduccion DOUBLE,\n",
        "        nota_equipo DOUBLE,\n",
        "        nota_problema DOUBLE,\n",
        "        nota_ventajas DOUBLE,\n",
        "        nota_solucion DOUBLE,\n",
        "        nota_producto DOUBLE,\n",
        "        nota_traccion DOUBLE,\n",
        "        nota_mercado DOUBLE,\n",
        "        nota_competencia DOUBLE,\n",
        "        nota_modelo DOUBLE,\n",
        "        nota_inversion DOUBLE,\n",
        "        nota_contacto DOUBLE,\n",
        "        nota_exposicion1 DOUBLE,\n",
        "        nota_exposicion2 DOUBLE,\n",
        "        nota_exposicion3 DOUBLE,\n",
        "        descripcion_inversionista STRING,\n",
        "        observaciones STRING\n",
        "        ) \n",
        "USING CSV OPTIONS ( \n",
        "    header='true', \n",
        "    nullvalue='NA', \n",
        "    timestampFormat=\\\"yyyy-MM-dd'T'HH:mm:ss\\\", \n",
        "    path='Evaluacion_Pitch.csv')\n",
        "    \"\"\"); "
      ],
      "execution_count": null,
      "outputs": []
    },
    {
      "cell_type": "code",
      "metadata": {
        "id": "Pcoe2RwZgpQj"
      },
      "source": [
        "Asistentes = ContextoSql.sql(\"\"\"SELECT equipo_exposicion,count(equipo_pertenece)\n",
        "                                FROM asistencia\n",
        "                                WHERE SUBSTR(equipo_exposicion, 8) != SUBSTR(equipo_pertenece, 14)\n",
        "                                GROUP BY equipo_exposicion\"\"\")\n",
        "Asistentes.show(Asistentes.count())# 2. Consulte el listado total de estudiantes (correos electrónicos) del \n",
        "# curso de Ingeniería de Software, ordenados alfabéticamente\n",
        "# Tu código a continuación...\n",
        "consulta = ContextoSql.sql(\"SELECT DISTINCT correo FROM asistencia ORDER BY correo ASC\")\n",
        "consulta.show(consulta.count())"
      ],
      "execution_count": null,
      "outputs": []
    },
    {
      "cell_type": "code",
      "metadata": {
        "id": "Qk4wJLdPgpQk"
      },
      "source": [
        "# 3. Consulte la cantidad de asistencias registradas por estudiante; además, la fecha y hora de la primera asistencia\n",
        "# y la fecha y hora de la última asistencia\n",
        "# Tu código a continuación...\n",
        "consulta2 = ContextoSql.sql(\"\"\"SELECT correo, count(equipo_exposicion) AS cantidad_de_asistencias,MIN(creacion_registro) AS primera_asistencia, MAX(creacion_registro) AS ultima_asistencia\n",
        "                            FROM asistencia \n",
        "                            GROUP by correo \n",
        "                            order by count(equipo_exposicion)\"\"\")\n",
        "consulta2.show()"
      ],
      "execution_count": null,
      "outputs": []
    },
    {
      "cell_type": "code",
      "metadata": {
        "id": "4USPEg3KgpQk"
      },
      "source": [
        "# 4. Consulte el listado de estudiantes que asistieron a 2 presentaciones o menos (una).\n",
        "# Tu código a continuación...\n",
        "consulta2 = ContextoSql.sql(\"\"\"SELECT correo, count(equipo_exposicion)\n",
        "                            FROM asistencia \n",
        "                            GROUP by correo \n",
        "                            order by count(equipo_exposicion)\"\"\")\n",
        "\n",
        "consulta3 = consulta2.select(['correo']).filter((consulta2['count(equipo_exposicion)'] <= 2)&(consulta2['count(equipo_exposicion)'] >= 1) ).show()"
      ],
      "execution_count": null,
      "outputs": []
    },
    {
      "cell_type": "code",
      "metadata": {
        "id": "ex5e-3HfgpQl"
      },
      "source": [
        "# 5. Consulte el listado de estudiantes que no asistieron a ninguna presentación.\n",
        "# Tu código a continuación...\n",
        "consulta2 = ContextoSql.sql(\"\"\"SELECT correo, count(equipo_exposicion)\n",
        "                            FROM asistencia \n",
        "                            GROUP by correo \n",
        "                            order by count(equipo_exposicion)\"\"\")\n",
        "\n",
        "consulta3 = consulta2.select(['correo']).filter(consulta2['count(equipo_exposicion)'] == 0).show()\n"
      ],
      "execution_count": null,
      "outputs": []
    },
    {
      "cell_type": "code",
      "metadata": {
        "id": "9rADMdmRgpQl"
      },
      "source": [
        "# 6. Consulte los integrantes por cada equipo al que pertenecen.\n",
        "# Tu código a continuación...\n",
        "consulta = ContextoSql.sql(\"SELECT equipo_pertenece,correo FROM asistencia GROUP BY equipo_pertenece, correo ORDER BY equipo_pertenece\")\n",
        "consulta.show(consulta.count())"
      ],
      "execution_count": null,
      "outputs": []
    },
    {
      "cell_type": "code",
      "metadata": {
        "id": "p8vFJEN-gpQm"
      },
      "source": [
        "# 7. Consulte la cantidad de asistentes por presentación, sin considerar los asistentes que pertenecen \n",
        "# al equipo que realizó la presentación.\n",
        "# Tu código a continuación...\n",
        "Asistentes = ContextoSql.sql(\"\"\"SELECT equipo_exposicion,count(equipo_pertenece)\n",
        "                                FROM asistencia\n",
        "                                WHERE SUBSTR(equipo_exposicion, 8) != SUBSTR(equipo_pertenece, 14)\n",
        "                                GROUP BY equipo_exposicion\"\"\")\n",
        "Asistentes.show(Asistentes.count())\n",
        "\n"
      ],
      "execution_count": null,
      "outputs": []
    },
    {
      "cell_type": "code",
      "metadata": {
        "id": "FOz8Op71gpQm"
      },
      "source": [
        "# 8. Consutar cuáles integrantes evaluaron a su propio equipo. Estas evaluaciones no serán válidas, pues un\n",
        "# integrante no puede evaluar a su propio equipo.\n",
        "# Tu código a continuación...\n",
        "consulta2 = ContextoSql.sql(\"\"\"SELECT asi.correo,asi.equipo_pertenece,eva.equipo_evaluar\n",
        "                            FROM asistencia AS asi INNER JOIN evaluacion AS eva\n",
        "                            ON asi.correo = eva.correo\n",
        "                            WHERE SUBSTR (asi.equipo_pertenece, 15) = eva.equipo_evaluar\n",
        "                            \"\"\")\n",
        "consulta2.show()"
      ],
      "execution_count": null,
      "outputs": []
    },
    {
      "cell_type": "code",
      "metadata": {
        "id": "-VxT-TmqXayt"
      },
      "source": [
        "# 9. Consultar la nota promedio por cada ítem (1 al 15), y la nota promedio total del cada equipo. Recuerde que no\n",
        "# son válidas las evaluaciones realizadas por los miembros del mismo equipo.\n",
        "# Tu código a continuación...\n",
        "!hadoop fs -rm spark-warehouse/notas_equipos/*\n",
        "Notas = ContextoSql.sql(\"\"\"SELECT asi.equipo_pertenece AS EQUIPO, ROUND(AVG(nota_introduccion),2) AS NOTA1, ROUND(AVG(nota_equipo),2) AS NOTA2, \n",
        "                            ROUND(AVG(nota_problema),2) AS NOTA3, ROUND(AVG(nota_ventajas),2) AS NOTA4, \n",
        "                            ROUND(AVG(nota_solucion),2) AS NOTA5, ROUND(AVG(nota_producto),2) AS NOTA6, \n",
        "                            ROUND(AVG(nota_traccion),2) AS NOTA7, ROUND(AVG(nota_mercado),2) AS NOTA8, \n",
        "                            ROUND(AVG(nota_competencia),2) AS NOTA9, ROUND(AVG(nota_modelo),2) AS NOTA10, \n",
        "                            ROUND(AVG(nota_inversion),2) AS NOTA11, ROUND(AVG(nota_contacto),2) AS NOTA12, \n",
        "                            ROUND(AVG(nota_exposicion1),2) AS NOTA13, ROUND(AVG(nota_exposicion2),2) AS NOTA14, \n",
        "                            ROUND(AVG(nota_exposicion3),2) NOTA15,ROUND((AVG(nota_exposicion3)+AVG(nota_exposicion2)+AVG(nota_exposicion1)+AVG(nota_contacto)+AVG(nota_inversion)+AVG(nota_modelo)+AVG(nota_competencia)+\n",
        "                            AVG(nota_mercado)+AVG(nota_traccion)+AVG(nota_producto)+AVG(nota_solucion)+AVG(nota_ventajas)+AVG(nota_problema)+AVG(nota_equipo)+AVG(nota_introduccion))/15,2) AS AVG_EQUIPO\n",
        "                            FROM asistencia AS asi INNER JOIN evaluacion AS eva\n",
        "                            ON asi.correo = eva.correo\n",
        "                            WHERE SUBSTR (asi.equipo_pertenece, 15) != eva.equipo_evaluar\n",
        "                            GROUP BY asi.equipo_pertenece\n",
        "                            \"\"\")\n",
        "ContextoSql.sql(\"DROP TABLE IF EXISTS notas_equipos\")\n",
        "Notas.show()\n",
        "Notas.write.format(\"orc\").saveAsTable(\"notas_equipos\")"
      ],
      "execution_count": null,
      "outputs": []
    },
    {
      "cell_type": "code",
      "metadata": {
        "id": "VD5zMpy1gpQn"
      },
      "source": [
        "# 10. Consulte el mejor equipo evaluado por cada ítem (según nota promedio. En caso de empate mostrar todos los empatados) \n",
        "# y el mejor equipo según el promedio total.\n",
        "# Tu código a continuación...\n",
        "Notas = ContextoSql.sql(\"\"\"SELECT SUBSTR (asi.equipo_pertenece, 15) AS EQUIPO, ROUND(AVG(nota_introduccion),2) AS NOTA1, ROUND(AVG(nota_equipo),2) AS NOTA2, \n",
        "                            ROUND(AVG(nota_problema),2) AS NOTA3, ROUND(AVG(nota_ventajas),2) AS NOTA4, \n",
        "                            ROUND(AVG(nota_solucion),2) AS NOTA5, ROUND(AVG(nota_producto),2) AS NOTA6, \n",
        "                            ROUND(AVG(nota_traccion),2) AS NOTA7, ROUND(AVG(nota_mercado),2) AS NOTA8, \n",
        "                            ROUND(AVG(nota_competencia),2) AS NOTA9, ROUND(AVG(nota_modelo),2) AS NOTA10, \n",
        "                            ROUND(AVG(nota_inversion),2) AS NOTA11, ROUND(AVG(nota_contacto),2) AS NOTA12, \n",
        "                            ROUND(AVG(nota_exposicion1),2) AS NOTA13, ROUND(AVG(nota_exposicion2),2) AS NOTA14, \n",
        "                            ROUND(AVG(nota_exposicion3),2) NOTA15,ROUND((AVG(nota_exposicion3)+AVG(nota_exposicion2)+AVG(nota_exposicion1)+AVG(nota_contacto)+AVG(nota_inversion)+AVG(nota_modelo)+AVG(nota_competencia)+\n",
        "                            AVG(nota_mercado)+AVG(nota_traccion)+AVG(nota_producto)+AVG(nota_solucion)+AVG(nota_ventajas)+AVG(nota_problema)+AVG(nota_equipo)+AVG(nota_introduccion))/15,2) AS AVG_EQUIPO\n",
        "                            FROM asistencia AS asi INNER JOIN evaluacion AS eva\n",
        "                            ON asi.correo = eva.correo\n",
        "                            WHERE SUBSTR (asi.equipo_pertenece, 15) != eva.equipo_evaluar\n",
        "                            GROUP BY asi.equipo_pertenece\n",
        "                            ORDER BY NOTA1 DESC, NOTA2 DESC, NOTA3 DESC, NOTA4 DESC, NOTA5 DESC, NOTA6 DESC, NOTA7 DESC, NOTA8 DESC, NOTA9 DESC, NOTA10 DESC, NOTA11 DESC, NOTA12 DESC, NOTA13 DESC, NOTA14 DESC, NOTA15 DESC, AVG_EQUIPO\n",
        "                            \"\"\")\n",
        "\n",
        "Notas.select(['NOTA1', 'EQUIPO']).sort(['NOTA1'], ascending=[False]).show(1)\n",
        "Notas.select(['NOTA2', 'EQUIPO']).sort(['NOTA2'], ascending=[False]).show(1)\n",
        "Notas.select(['NOTA3', 'EQUIPO']).sort(['NOTA3'], ascending=[False]).show(1)\n",
        "Notas.select(['NOTA4', 'EQUIPO']).sort(['NOTA4'], ascending=[False]).show(1)\n",
        "Notas.select(['NOTA5', 'EQUIPO']).sort(['NOTA5'], ascending=[False]).show(1)\n",
        "Notas.select(['NOTA6', 'EQUIPO']).sort(['NOTA6'], ascending=[False]).show(1)\n",
        "Notas.select(['NOTA7', 'EQUIPO']).sort(['NOTA7'], ascending=[False]).show(1)\n",
        "Notas.select(['NOTA8', 'EQUIPO']).sort(['NOTA8'], ascending=[False]).show(1)\n",
        "Notas.select(['NOTA9', 'EQUIPO']).sort(['NOTA9'], ascending=[False]).show(1)\n",
        "Notas.select(['NOTA10', 'EQUIPO']).sort(['NOTA10'], ascending=[False]).show(1)\n",
        "Notas.select(['NOTA11', 'EQUIPO']).sort(['NOTA11'], ascending=[False]).show(1)\n",
        "Notas.select(['NOTA12', 'EQUIPO']).sort(['NOTA12'], ascending=[False]).show(1)\n",
        "Notas.select(['NOTA13', 'EQUIPO']).sort(['NOTA13'], ascending=[False]).show(1)\n",
        "Notas.select(['NOTA14', 'EQUIPO']).sort(['NOTA14'], ascending=[False]).show(1)\n",
        "Notas.select(['NOTA15', 'EQUIPO']).sort(['NOTA15'], ascending=[False]).show(1)\n",
        "Notas.select(['AVG_EQUIPO', 'EQUIPO']).sort(['AVG_EQUIPO'], ascending=[False]).show(1)"
      ],
      "execution_count": null,
      "outputs": []
    },
    {
      "cell_type": "code",
      "metadata": {
        "id": "-Sa9_fCWgpQn"
      },
      "source": [
        "# 11. Consulte el peor equipo evaluado por cada ítem (según nota promedio. En caso de empate mostrar todos los empatados) \n",
        "# y el peor equipo según el promedio total.\n",
        "# Tu código a continuación...\n",
        "Notas = ContextoSql.sql(\"\"\"SELECT SUBSTR (asi.equipo_pertenece, 15) AS EQUIPO, ROUND(AVG(nota_introduccion),2) AS NOTA1, ROUND(AVG(nota_equipo),2) AS NOTA2, \n",
        "                            ROUND(AVG(nota_problema),2) AS NOTA3, ROUND(AVG(nota_ventajas),2) AS NOTA4, \n",
        "                            ROUND(AVG(nota_solucion),2) AS NOTA5, ROUND(AVG(nota_producto),2) AS NOTA6, \n",
        "                            ROUND(AVG(nota_traccion),2) AS NOTA7, ROUND(AVG(nota_mercado),2) AS NOTA8, \n",
        "                            ROUND(AVG(nota_competencia),2) AS NOTA9, ROUND(AVG(nota_modelo),2) AS NOTA10, \n",
        "                            ROUND(AVG(nota_inversion),2) AS NOTA11, ROUND(AVG(nota_contacto),2) AS NOTA12, \n",
        "                            ROUND(AVG(nota_exposicion1),2) AS NOTA13, ROUND(AVG(nota_exposicion2),2) AS NOTA14, \n",
        "                            ROUND(AVG(nota_exposicion3),2) NOTA15,ROUND((AVG(nota_exposicion3)+AVG(nota_exposicion2)+AVG(nota_exposicion1)+AVG(nota_contacto)+AVG(nota_inversion)+AVG(nota_modelo)+AVG(nota_competencia)+\n",
        "                            AVG(nota_mercado)+AVG(nota_traccion)+AVG(nota_producto)+AVG(nota_solucion)+AVG(nota_ventajas)+AVG(nota_problema)+AVG(nota_equipo)+AVG(nota_introduccion))/15,2) AS AVG_EQUIPO\n",
        "                            FROM asistencia AS asi INNER JOIN evaluacion AS eva\n",
        "                            ON asi.correo = eva.correo\n",
        "                            WHERE SUBSTR (asi.equipo_pertenece, 15) != eva.equipo_evaluar\n",
        "                            GROUP BY asi.equipo_pertenece\n",
        "                            ORDER BY NOTA1 DESC, NOTA2 DESC, NOTA3 DESC, NOTA4 DESC, NOTA5 DESC, NOTA6 DESC, NOTA7 DESC, NOTA8 DESC, NOTA9 DESC, NOTA10 DESC, NOTA11 DESC, NOTA12 DESC, NOTA13 DESC, NOTA14 DESC, NOTA15 DESC, AVG_EQUIPO\n",
        "                            \"\"\")\n",
        "\n",
        "\n",
        "Notas.select(['NOTA1', 'EQUIPO']).sort(['NOTA1'], ascending=[True]).show(1)\n",
        "Notas.select(['NOTA2', 'EQUIPO']).sort(['NOTA2'], ascending=[True]).show(1)\n",
        "Notas.select(['NOTA3', 'EQUIPO']).sort(['NOTA3'], ascending=[True]).show(1)\n",
        "Notas.select(['NOTA4', 'EQUIPO']).sort(['NOTA4'], ascending=[True]).show(1)\n",
        "Notas.select(['NOTA5', 'EQUIPO']).sort(['NOTA5'], ascending=[True]).show(1)\n",
        "Notas.select(['NOTA6', 'EQUIPO']).sort(['NOTA6'], ascending=[True]).show(1)\n",
        "Notas.select(['NOTA7', 'EQUIPO']).sort(['NOTA7'], ascending=[True]).show(1)\n",
        "Notas.select(['NOTA8', 'EQUIPO']).sort(['NOTA8'], ascending=[True]).show(1)\n",
        "Notas.select(['NOTA9', 'EQUIPO']).sort(['NOTA9'], ascending=[True]).show(1)\n",
        "Notas.select(['NOTA10', 'EQUIPO']).sort(['NOTA10'], ascending=[True]).show(1)\n",
        "Notas.select(['NOTA11', 'EQUIPO']).sort(['NOTA11'], ascending=[True]).show(1)\n",
        "Notas.select(['NOTA12', 'EQUIPO']).sort(['NOTA12'], ascending=[True]).show(1)\n",
        "Notas.select(['NOTA13', 'EQUIPO']).sort(['NOTA13'], ascending=[True]).show(1)\n",
        "Notas.select(['NOTA14', 'EQUIPO']).sort(['NOTA14'], ascending=[True]).show(1)\n",
        "Notas.select(['NOTA15', 'EQUIPO']).sort(['NOTA15'], ascending=[True]).show(1)\n",
        "Notas.select(['AVG_EQUIPO', 'EQUIPO']).sort(['AVG_EQUIPO'], ascending=[True]).show(1)"
      ],
      "execution_count": null,
      "outputs": []
    },
    {
      "cell_type": "code",
      "metadata": {
        "id": "Q1FeXThcgpQo"
      },
      "source": [
        "# 12. Consulte la lista de estudiantes con la correspondiente nota obtenida en la presentación \n",
        "# (nota promedio total de la evaluación obtenida por el equipo)\n",
        "# Tu código a continuación...\n",
        "consulta=ContextoSql.sql('''SELECT asi.correo,nota.AVG_EQUIPO\n",
        "                        FROM asistencia AS asi INNER JOIN notas_equipos AS nota\n",
        "                        ON asi.equipo_pertenece = nota.EQUIPO\n",
        "                        group by asi.correo,nota.AVG_EQUIPO\n",
        "                        order by asi.correo\n",
        "                        ''')\n",
        "consulta.show(consulta.count())\n"
      ],
      "execution_count": null,
      "outputs": []
    }
  ]
}